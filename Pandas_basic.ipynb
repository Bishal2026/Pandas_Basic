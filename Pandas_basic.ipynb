{
 "cells": [
  {
   "cell_type": "markdown",
   "id": "c2a5f6ac-993b-4d61-b6c7-6a2ebe448e31",
   "metadata": {},
   "source": [
    "***Q1***"
   ]
  },
  {
   "cell_type": "code",
   "execution_count": 3,
   "id": "8edbb15d-a991-4f60-89cb-c3f9de26935b",
   "metadata": {},
   "outputs": [
    {
     "name": "stdout",
     "output_type": "stream",
     "text": [
      "0     4\n",
      "1     8\n",
      "2    15\n",
      "3    16\n",
      "4    23\n",
      "5    42\n",
      "dtype: int64\n"
     ]
    }
   ],
   "source": [
    "import pandas as pd \n",
    "data = [4,8,15,16,23,42]\n",
    "series = pd.Series(data)\n",
    "print(series)"
   ]
  },
  {
   "cell_type": "markdown",
   "id": "53889ef0-2506-4a81-b001-2e42732173bb",
   "metadata": {},
   "source": [
    "***Q2***"
   ]
  },
  {
   "cell_type": "code",
   "execution_count": 4,
   "id": "d909a5c2-0ffd-45af-a24d-59957e83b3a1",
   "metadata": {},
   "outputs": [
    {
     "name": "stdout",
     "output_type": "stream",
     "text": [
      "0     1\n",
      "1     2\n",
      "2     3\n",
      "3     4\n",
      "4     5\n",
      "5     6\n",
      "6     7\n",
      "7     8\n",
      "8     9\n",
      "9    10\n",
      "dtype: int64\n"
     ]
    }
   ],
   "source": [
    "import pandas as pd\n",
    "\n",
    "my_list = [1, 2, 3, 4, 5, 6, 7, 8, 9, 10]\n",
    "series = pd.Series(my_list)\n",
    "print(series)"
   ]
  },
  {
   "cell_type": "markdown",
   "id": "fa558d48-6795-4919-be0d-8c74eb5bc487",
   "metadata": {},
   "source": [
    "***Q3***"
   ]
  },
  {
   "cell_type": "code",
   "execution_count": 8,
   "id": "d85a3e02-a2ee-4364-bb05-e4ea1c65d914",
   "metadata": {},
   "outputs": [
    {
     "name": "stdout",
     "output_type": "stream",
     "text": [
      "     Name  Age  Gender\n",
      "0   Alice   25  Female\n",
      "1     Bob   30    Male\n",
      "2  Claire   27  Female\n"
     ]
    }
   ],
   "source": [
    "import pandas as pd\n",
    "\n",
    "data = {\n",
    "    'Name': ['Alice', 'Bob', 'Claire'],\n",
    "    'Age': [25, 30, 27],\n",
    "    'Gender': ['Female', 'Male', 'Female']\n",
    "}\n",
    "\n",
    "df = pd.DataFrame(data)\n",
    "print(df)"
   ]
  },
  {
   "cell_type": "markdown",
   "id": "ccc3ee10-77ec-4de7-b698-56702a83712b",
   "metadata": {},
   "source": [
    "***Q4***"
   ]
  },
  {
   "cell_type": "markdown",
   "id": "c8ca3457-5ab9-4c11-9203-35526663d980",
   "metadata": {},
   "source": [
    "In Pandas, a DataFrame is a two-dimensional labeled data structure that represents tabular data, similar to a table in a relational database.\n",
    "\n",
    "\n"
   ]
  },
  {
   "cell_type": "markdown",
   "id": "843878ff-4ad7-4012-9d55-b159836ce689",
   "metadata": {},
   "source": [
    "A Pandas Series, on the other hand, is a one-dimensional labeled array that can hold data of any type. e.g. numeric, string, datetime .\n"
   ]
  },
  {
   "cell_type": "code",
   "execution_count": 10,
   "id": "f6ea4400-150b-4b10-989b-b1290c718c13",
   "metadata": {},
   "outputs": [
    {
     "name": "stdout",
     "output_type": "stream",
     "text": [
      "     Name  Age  Gender\n",
      "0   Alice   25  Female\n",
      "1     Bob   30    Male\n",
      "2  Claire   27  Female\n"
     ]
    }
   ],
   "source": [
    "import pandas as pd\n",
    "\n",
    "data = {\n",
    "    'Name': ['Alice', 'Bob', 'Claire'],\n",
    "    'Age': [25, 30, 27],\n",
    "    'Gender': ['Female', 'Male', 'Female']\n",
    "}\n",
    "\n",
    "df = pd.DataFrame(data)\n",
    "print(df)"
   ]
  },
  {
   "cell_type": "markdown",
   "id": "35156734-367e-436d-98ec-16f03fa3629e",
   "metadata": {},
   "source": [
    "This example, we have created a DataFrame named df with three columns: 'Name', 'Age', and 'Gender'. Each column is a Pandas Series.\n",
    "And  the DataFrame provides a tabular structure to hold and organize these Series together, allowing us to work with the data as a whole."
   ]
  },
  {
   "cell_type": "markdown",
   "id": "f5dd9da7-f940-41ad-b289-17e429beefc1",
   "metadata": {},
   "source": [
    "***Q5***"
   ]
  },
  {
   "cell_type": "markdown",
   "id": "cf8e4f59-6d2d-45bc-a286-dec68cc7b037",
   "metadata": {},
   "source": [
    "some common functions we use to manipulate data in a Pandas DataFrame :\n",
    "\n",
    "head(): \n",
    "These functions allow you to view the first few rows.\n",
    "\n",
    "tail():\n",
    "The last few rows \n",
    "\n",
    "\n",
    "info():\n",
    " This function provides a concise summary of the DataFrame\n",
    " \n",
    " \n",
    "describe():\n",
    " This function generates descriptive statistics of the numerical columns in the DataFrame.\n",
    " \n",
    " \n",
    "\n"
   ]
  },
  {
   "cell_type": "markdown",
   "id": "d9156b33-32c7-4329-a9bf-721dcaf6e3f5",
   "metadata": {},
   "source": [
    "example: Q4question make dataframe :\n",
    "    "
   ]
  },
  {
   "cell_type": "code",
   "execution_count": 14,
   "id": "07665ba0-5d21-4fa2-992c-9539e3099ebc",
   "metadata": {},
   "outputs": [
    {
     "data": {
      "text/html": [
       "<div>\n",
       "<style scoped>\n",
       "    .dataframe tbody tr th:only-of-type {\n",
       "        vertical-align: middle;\n",
       "    }\n",
       "\n",
       "    .dataframe tbody tr th {\n",
       "        vertical-align: top;\n",
       "    }\n",
       "\n",
       "    .dataframe thead th {\n",
       "        text-align: right;\n",
       "    }\n",
       "</style>\n",
       "<table border=\"1\" class=\"dataframe\">\n",
       "  <thead>\n",
       "    <tr style=\"text-align: right;\">\n",
       "      <th></th>\n",
       "      <th>Name</th>\n",
       "      <th>Age</th>\n",
       "      <th>Gender</th>\n",
       "    </tr>\n",
       "  </thead>\n",
       "  <tbody>\n",
       "    <tr>\n",
       "      <th>0</th>\n",
       "      <td>Alice</td>\n",
       "      <td>25</td>\n",
       "      <td>Female</td>\n",
       "    </tr>\n",
       "    <tr>\n",
       "      <th>1</th>\n",
       "      <td>Bob</td>\n",
       "      <td>30</td>\n",
       "      <td>Male</td>\n",
       "    </tr>\n",
       "  </tbody>\n",
       "</table>\n",
       "</div>"
      ],
      "text/plain": [
       "    Name  Age  Gender\n",
       "0  Alice   25  Female\n",
       "1    Bob   30    Male"
      ]
     },
     "execution_count": 14,
     "metadata": {},
     "output_type": "execute_result"
    }
   ],
   "source": [
    "df.head(2)"
   ]
  },
  {
   "cell_type": "code",
   "execution_count": 15,
   "id": "3cba95fe-ee7d-4ef6-b5d4-c1ba9121975c",
   "metadata": {},
   "outputs": [
    {
     "name": "stdout",
     "output_type": "stream",
     "text": [
      "<class 'pandas.core.frame.DataFrame'>\n",
      "RangeIndex: 3 entries, 0 to 2\n",
      "Data columns (total 3 columns):\n",
      " #   Column  Non-Null Count  Dtype \n",
      "---  ------  --------------  ----- \n",
      " 0   Name    3 non-null      object\n",
      " 1   Age     3 non-null      int64 \n",
      " 2   Gender  3 non-null      object\n",
      "dtypes: int64(1), object(2)\n",
      "memory usage: 200.0+ bytes\n"
     ]
    }
   ],
   "source": [
    "df.info()"
   ]
  },
  {
   "cell_type": "code",
   "execution_count": 16,
   "id": "81de1a6c-aa89-410f-983e-572b66752d7a",
   "metadata": {},
   "outputs": [
    {
     "data": {
      "text/html": [
       "<div>\n",
       "<style scoped>\n",
       "    .dataframe tbody tr th:only-of-type {\n",
       "        vertical-align: middle;\n",
       "    }\n",
       "\n",
       "    .dataframe tbody tr th {\n",
       "        vertical-align: top;\n",
       "    }\n",
       "\n",
       "    .dataframe thead th {\n",
       "        text-align: right;\n",
       "    }\n",
       "</style>\n",
       "<table border=\"1\" class=\"dataframe\">\n",
       "  <thead>\n",
       "    <tr style=\"text-align: right;\">\n",
       "      <th></th>\n",
       "      <th>Age</th>\n",
       "    </tr>\n",
       "  </thead>\n",
       "  <tbody>\n",
       "    <tr>\n",
       "      <th>count</th>\n",
       "      <td>3.000000</td>\n",
       "    </tr>\n",
       "    <tr>\n",
       "      <th>mean</th>\n",
       "      <td>27.333333</td>\n",
       "    </tr>\n",
       "    <tr>\n",
       "      <th>std</th>\n",
       "      <td>2.516611</td>\n",
       "    </tr>\n",
       "    <tr>\n",
       "      <th>min</th>\n",
       "      <td>25.000000</td>\n",
       "    </tr>\n",
       "    <tr>\n",
       "      <th>25%</th>\n",
       "      <td>26.000000</td>\n",
       "    </tr>\n",
       "    <tr>\n",
       "      <th>50%</th>\n",
       "      <td>27.000000</td>\n",
       "    </tr>\n",
       "    <tr>\n",
       "      <th>75%</th>\n",
       "      <td>28.500000</td>\n",
       "    </tr>\n",
       "    <tr>\n",
       "      <th>max</th>\n",
       "      <td>30.000000</td>\n",
       "    </tr>\n",
       "  </tbody>\n",
       "</table>\n",
       "</div>"
      ],
      "text/plain": [
       "             Age\n",
       "count   3.000000\n",
       "mean   27.333333\n",
       "std     2.516611\n",
       "min    25.000000\n",
       "25%    26.000000\n",
       "50%    27.000000\n",
       "75%    28.500000\n",
       "max    30.000000"
      ]
     },
     "execution_count": 16,
     "metadata": {},
     "output_type": "execute_result"
    }
   ],
   "source": [
    "df.describe()"
   ]
  },
  {
   "cell_type": "markdown",
   "id": "cf532812-ae77-460a-87af-fafd348892cc",
   "metadata": {},
   "source": [
    "***Q6***"
   ]
  },
  {
   "cell_type": "markdown",
   "id": "16806066-20d8-4df3-9308-37e1dc52d27b",
   "metadata": {},
   "source": [
    "Series: A Pandas Series is mutable, which means you can modify the values within a Series after it is created. You can assign new values to specific positions in the Series, add or remove elements, and perform various other operations to modify the Series.\n",
    "\n",
    "\n",
    "\n",
    "DataFrame:A Pandas DataFrame is mutable. You can change the values in individual cells, add or remove rows or columns, update the column names or index labels, and perform a wide range of data manipulations to modify the DataFrame."
   ]
  },
  {
   "cell_type": "markdown",
   "id": "405a236a-3821-4858-bea1-2e2a7b746445",
   "metadata": {},
   "source": [
    "Panel: However, Panel is not mutable.It was intended to represent three-dimensional data, but it has been replaced with other data structures like MultiIndex DataFrame or xarray for more efficient handling of multi-dimensional data."
   ]
  },
  {
   "cell_type": "markdown",
   "id": "43e567cc-44d2-4c4d-a611-1a5567be28ae",
   "metadata": {},
   "source": [
    "***Q7***"
   ]
  },
  {
   "cell_type": "code",
   "execution_count": 18,
   "id": "611c1a92-b53d-45aa-86a0-41c6f9596972",
   "metadata": {},
   "outputs": [
    {
     "name": "stdout",
     "output_type": "stream",
     "text": [
      "     Name  Age  Gender\n",
      "0   Alice   25  Female\n",
      "1     Bob   30    Male\n",
      "2  Claire   27  Female\n"
     ]
    }
   ],
   "source": [
    "import pandas as pd\n",
    "\n",
    "\n",
    "name_series = pd.Series(['Alice', 'Bob', 'Claire'])\n",
    "age_series = pd.Series([25, 30, 27])\n",
    "gender_series = pd.Series(['Female', 'Male', 'Female'])\n",
    "\n",
    "\n",
    "df = pd.DataFrame({\n",
    "    'Name': name_series,\n",
    "    'Age': age_series,\n",
    "    'Gender': gender_series\n",
    "})\n",
    "\n",
    "\n",
    "print(df)"
   ]
  },
  {
   "cell_type": "code",
   "execution_count": null,
   "id": "f3c67a54-6f4b-40e6-9910-9b34599aa17a",
   "metadata": {},
   "outputs": [],
   "source": []
  }
 ],
 "metadata": {
  "kernelspec": {
   "display_name": "Python 3 (ipykernel)",
   "language": "python",
   "name": "python3"
  },
  "language_info": {
   "codemirror_mode": {
    "name": "ipython",
    "version": 3
   },
   "file_extension": ".py",
   "mimetype": "text/x-python",
   "name": "python",
   "nbconvert_exporter": "python",
   "pygments_lexer": "ipython3",
   "version": "3.10.9"
  }
 },
 "nbformat": 4,
 "nbformat_minor": 5
}
